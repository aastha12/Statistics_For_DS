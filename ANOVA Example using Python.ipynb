{
 "cells": [
  {
   "cell_type": "markdown",
   "metadata": {},
   "source": [
    "## Hypothesis Testing using ANOVA\n",
    "\n",
    "Source: \n",
    "\n",
    "1. https://www.analyticsvidhya.com/blog/2020/06/introduction-anova-statistics-data-science-covid-python/\n",
    "2. https://www.pythonfordatascience.org/anova-python/\n"
   ]
  },
  {
   "cell_type": "code",
   "execution_count": 102,
   "metadata": {},
   "outputs": [
    {
     "data": {
      "text/html": [
       "<div>\n",
       "<style scoped>\n",
       "    .dataframe tbody tr th:only-of-type {\n",
       "        vertical-align: middle;\n",
       "    }\n",
       "\n",
       "    .dataframe tbody tr th {\n",
       "        vertical-align: top;\n",
       "    }\n",
       "\n",
       "    .dataframe thead th {\n",
       "        text-align: right;\n",
       "    }\n",
       "</style>\n",
       "<table border=\"1\" class=\"dataframe\">\n",
       "  <thead>\n",
       "    <tr style=\"text-align: right;\">\n",
       "      <th></th>\n",
       "      <th>person</th>\n",
       "      <th>dose</th>\n",
       "      <th>libido</th>\n",
       "    </tr>\n",
       "  </thead>\n",
       "  <tbody>\n",
       "    <tr>\n",
       "      <th>0</th>\n",
       "      <td>1</td>\n",
       "      <td>1</td>\n",
       "      <td>3</td>\n",
       "    </tr>\n",
       "    <tr>\n",
       "      <th>1</th>\n",
       "      <td>2</td>\n",
       "      <td>1</td>\n",
       "      <td>2</td>\n",
       "    </tr>\n",
       "    <tr>\n",
       "      <th>2</th>\n",
       "      <td>3</td>\n",
       "      <td>1</td>\n",
       "      <td>1</td>\n",
       "    </tr>\n",
       "    <tr>\n",
       "      <th>3</th>\n",
       "      <td>4</td>\n",
       "      <td>1</td>\n",
       "      <td>1</td>\n",
       "    </tr>\n",
       "    <tr>\n",
       "      <th>4</th>\n",
       "      <td>5</td>\n",
       "      <td>1</td>\n",
       "      <td>4</td>\n",
       "    </tr>\n",
       "  </tbody>\n",
       "</table>\n",
       "</div>"
      ],
      "text/plain": [
       "   person  dose  libido\n",
       "0       1     1       3\n",
       "1       2     1       2\n",
       "2       3     1       1\n",
       "3       4     1       1\n",
       "4       5     1       4"
      ]
     },
     "execution_count": 102,
     "metadata": {},
     "output_type": "execute_result"
    }
   ],
   "source": [
    "df = pd.read_csv(\"https://raw.githubusercontent.com/researchpy/Data-sets/master/difficile.csv\")\n",
    "df.head()"
   ]
  },
  {
   "cell_type": "markdown",
   "metadata": {},
   "source": [
    "A new medication was developed to increase the libido of those who take the medication. The purpose of this study was to test for a difference between the dosage levels. There are 3 dosage levels - 1= 'placebo', 2='low', 3='high'. "
   ]
  },
  {
   "cell_type": "code",
   "execution_count": 105,
   "metadata": {},
   "outputs": [
    {
     "data": {
      "text/plain": [
       "dose\n",
       "1    2.2\n",
       "2    3.2\n",
       "3    5.0\n",
       "Name: libido, dtype: float64"
      ]
     },
     "execution_count": 105,
     "metadata": {},
     "output_type": "execute_result"
    }
   ],
   "source": [
    "df.groupby(['dose']).mean()['libido']"
   ]
  },
  {
   "cell_type": "code",
   "execution_count": 107,
   "metadata": {},
   "outputs": [],
   "source": [
    "df_1=df[df['dose']==1]\n",
    "df_2=df[df['dose']==2]\n",
    "df_3=df[df['dose']==3]"
   ]
  },
  {
   "cell_type": "markdown",
   "metadata": {},
   "source": [
    "Seems like taking high dosage of the medication has led to increase in libido values but we will confirm this with one way ANOVA"
   ]
  },
  {
   "cell_type": "code",
   "execution_count": 110,
   "metadata": {},
   "outputs": [
    {
     "name": "stdout",
     "output_type": "stream",
     "text": [
      "P value is 0.421149343252182.Fail to reject null hypothesis: Data is drawn from normal distribution\n",
      "P value is 0.421149343252182.Fail to reject null hypothesis: Data is drawn from normal distribution\n",
      "P value is 0.9671739339828491.Fail to reject null hypothesis: Data is drawn from normal distribution\n"
     ]
    }
   ],
   "source": [
    "#checking the assumptions of ANOVA\n",
    "#Normal distribution, equal variances, equal sample sizes\n",
    "\n",
    "from scipy.stats import shapiro\n",
    "\n",
    "def check_normality(df):\n",
    "    stat,p_value=shapiro(df)\n",
    "\n",
    "    if p_value<=0.05:\n",
    "        print(\"P_value is {}. Reject null hypothesis: Data is not drawn from normal distribution\".format(p_value))\n",
    "    else:\n",
    "        print(\"P value is {}.Fail to reject null hypothesis: Data is drawn from normal distribution\".format(p_value))\n",
    "    \n",
    "\n",
    "check_normality(df_1['libido'])\n",
    "check_normality(df_2['libido'])\n",
    "check_normality(df_3['libido'])"
   ]
  },
  {
   "cell_type": "code",
   "execution_count": 111,
   "metadata": {},
   "outputs": [
    {
     "name": "stdout",
     "output_type": "stream",
     "text": [
      "Failure to reject null hypothesis: All groups have equal variances\n"
     ]
    }
   ],
   "source": [
    "#equal variances\n",
    "\n",
    "from scipy.stats import levene\n",
    "\n",
    "stat,p_value=levene(df_1['libido'],df_2['libido'],df_3['libido'])\n",
    "\n",
    "if p_value<=0.05:\n",
    "    print(\"Reject null hypothesis: All groups have different variances\")\n",
    "else:\n",
    "    print(\"Failure to reject null hypothesis: All groups have equal variances\")"
   ]
  },
  {
   "cell_type": "markdown",
   "metadata": {},
   "source": [
    "Here, we have equal variances but if we didn't then there are different ways to handle heteroskedasticity (unequal variance) and a decision needs to be made. Some options include, but is not limited to, transformming the dependent variable (outcome), could use trimmed means, robust standard errors, or use a parametric test suchs as the Welch's t-test. "
   ]
  },
  {
   "cell_type": "code",
   "execution_count": 112,
   "metadata": {},
   "outputs": [
    {
     "name": "stdout",
     "output_type": "stream",
     "text": [
      "P value is 0.024694289538222603.Reject null hypothesis: There is a statistically significant difference between the groups\n"
     ]
    }
   ],
   "source": [
    "#since assumptions are met, we will continue with one way ANOVA\n",
    "\n",
    "from scipy.stats import f_oneway\n",
    "\n",
    "stat,p_value=f_oneway(df_1['libido'],df_2['libido'],df_3['libido'])\n",
    "\n",
    "if p_value<=0.05:\n",
    "    print(\"P value is {}.Reject null hypothesis: There is a statistically significant difference between the groups\".format(p_value))\n",
    "else:\n",
    "    print(\"P value is {}.Failure to reject null hypothesis: There is NO statistically significant difference between the groups\".format(p_value))"
   ]
  },
  {
   "cell_type": "markdown",
   "metadata": {},
   "source": [
    "#### Post Hoc Testing\n",
    "\n",
    "By conducting post-hoc tests or planned comparisons it allows one to see which group(s) significantly differ from each other. We will use TUKEY HONESTLY SIGNIFICANT DIFFERENCE (HSD)."
   ]
  },
  {
   "cell_type": "code",
   "execution_count": 114,
   "metadata": {},
   "outputs": [
    {
     "data": {
      "text/html": [
       "<table class=\"simpletable\">\n",
       "<caption>Multiple Comparison of Means - Tukey HSD, FWER=0.05</caption>\n",
       "<tr>\n",
       "  <th>group1</th> <th>group2</th> <th>meandiff</th>  <th>p-adj</th>  <th>lower</th>   <th>upper</th> <th>reject</th>\n",
       "</tr>\n",
       "<tr>\n",
       "     <td>1</td>      <td>2</td>      <td>1.0</td>   <td>0.5171</td> <td>-1.3651</td> <td>3.3651</td>  <td>False</td>\n",
       "</tr>\n",
       "<tr>\n",
       "     <td>1</td>      <td>3</td>      <td>2.8</td>   <td>0.0209</td> <td>0.4349</td>  <td>5.1651</td>  <td>True</td> \n",
       "</tr>\n",
       "<tr>\n",
       "     <td>2</td>      <td>3</td>      <td>1.8</td>   <td>0.1472</td> <td>-0.5651</td> <td>4.1651</td>  <td>False</td>\n",
       "</tr>\n",
       "</table>"
      ],
      "text/plain": [
       "<class 'statsmodels.iolib.table.SimpleTable'>"
      ]
     },
     "execution_count": 114,
     "metadata": {},
     "output_type": "execute_result"
    }
   ],
   "source": [
    "import statsmodels.stats.multicomp as mc\n",
    "\n",
    "comp=mc.MultiComparison(df['libido'],df['dose'])\n",
    "post_hoc_res=comp.tukeyhsd()\n",
    "post_hoc_res.summary()"
   ]
  },
  {
   "cell_type": "code",
   "execution_count": 115,
   "metadata": {},
   "outputs": [
    {
     "name": "stderr",
     "output_type": "stream",
     "text": [
      "C:\\ProgramData\\Anaconda3\\lib\\site-packages\\statsmodels\\sandbox\\stats\\multicomp.py:775: UserWarning: FixedFormatter should only be used together with FixedLocator\n",
      "  ax1.set_yticklabels(np.insert(self.groupsunique.astype(str), 0, ''))\n"
     ]
    },
    {
     "data": {
      "image/png": "[encoded data removed]",
      "text/plain": [
       "<Figure size 720x432 with 1 Axes>"
      ]
     },
     "execution_count": 115,
     "metadata": {},
     "output_type": "execute_result"
    },
    {
     "data": {
      "image/png": "[encoded data removed]",
      "text/plain": [
       "<Figure size 720x432 with 1 Axes>"
      ]
     },
     "metadata": {
      "needs_background": "light"
     },
     "output_type": "display_data"
    }
   ],
   "source": [
    "post_hoc_res.plot_simultaneous(ylabel= \"Drug Dose\", xlabel= \"Score Difference\")"
   ]
  },
  {
   "cell_type": "markdown",
   "metadata": {},
   "source": [
    "Using Tukey HSD to test for differences between groups indicates that there is a statistically significant difference in libido score between those who took the placebo and those who took the high dosage of the medication, no other groups differed significantly. What this indicates is that the high dosage of the medication is effective at increasing libido, but the low dosage is not."
   ]
  }
 ],
 "metadata": {
  "kernelspec": {
   "display_name": "Python 3",
   "language": "python",
   "name": "python3"
  },
  "language_info": {
   "codemirror_mode": {
    "name": "ipython",
    "version": 3
   },
   "file_extension": ".py",
   "mimetype": "text/x-python",
   "name": "python",
   "nbconvert_exporter": "python",
   "pygments_lexer": "ipython3",
   "version": "3.7.3"
  }
 },
 "nbformat": 4,
 "nbformat_minor": 4
}
